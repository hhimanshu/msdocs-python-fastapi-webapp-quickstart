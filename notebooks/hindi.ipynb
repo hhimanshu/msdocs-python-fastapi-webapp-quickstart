{
 "cells": [
  {
   "cell_type": "code",
   "execution_count": null,
   "metadata": {},
   "outputs": [],
   "source": [
    "%pip install langflow\n",
    "%pip install python-dotenv"
   ]
  },
  {
   "cell_type": "code",
   "execution_count": null,
   "metadata": {},
   "outputs": [],
   "source": [
    "import os\n",
    "from dotenv import load_dotenv\n",
    "\n",
    "load_dotenv(\".env\")\n",
    "print(os.getenv(\"openai_api_key\"))"
   ]
  },
  {
   "cell_type": "code",
   "execution_count": null,
   "metadata": {},
   "outputs": [],
   "source": [
    "import json\n",
    "from langflow.load import run_flow_from_json\n",
    "import os\n",
    "\n",
    "\n",
    "# Read and parse the JSON file\n",
    "with open(\"hello_world.json\", \"r\") as file:\n",
    "    json_data = json.load(file)\n",
    "\n",
    "# Extract the flow data (assuming it's the first item in the array)\n",
    "flow_data = json_data[\"flows\"][0]\n",
    "\n",
    "TWEAKS = {\n",
    "    \"ChatInput-T2fB6\": {},\n",
    "    \"Prompt-VKbE3\": {},\n",
    "    \"ChatOutput-KMUev\": {},\n",
    "    \"OpenAIModel-9Y4gs\": {\"api_key\": os.getenv(\"OPENAI_API_KEY\")},\n",
    "}\n",
    "\n",
    "result = run_flow_from_json(\n",
    "    flow=flow_data,\n",
    "    input_value=\"message\",\n",
    "    fallback_to_env_vars=True,  # False by default\n",
    "    tweaks=TWEAKS,\n",
    ")\n",
    "print(result)"
   ]
  }
 ],
 "metadata": {
  "kernelspec": {
   "display_name": "Python 3",
   "language": "python",
   "name": "python3"
  },
  "language_info": {
   "codemirror_mode": {
    "name": "ipython",
    "version": 3
   },
   "file_extension": ".py",
   "mimetype": "text/x-python",
   "name": "python",
   "nbconvert_exporter": "python",
   "pygments_lexer": "ipython3",
   "version": "3.10.14"
  }
 },
 "nbformat": 4,
 "nbformat_minor": 2
}
